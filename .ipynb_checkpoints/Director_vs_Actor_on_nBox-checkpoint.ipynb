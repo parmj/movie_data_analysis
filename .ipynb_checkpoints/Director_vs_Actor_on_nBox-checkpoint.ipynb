{
 "cells": [
  {
   "cell_type": "code",
   "execution_count": 1,
   "metadata": {},
   "outputs": [],
   "source": [
    "import sys\n",
    "import pandas as pd\n",
    "import numpy as np\n",
    "import matplotlib.pyplot as plt\n",
    "from scipy import stats\n",
    "from statsmodels.stats.multicomp import pairwise_tukeyhsd"
   ]
  },
  {
   "cell_type": "markdown",
   "metadata": {},
   "source": [
    "#### Do directors have an impact on success(nbox)?\n",
    "#### Do actors have an impact on success(nbox)?"
   ]
  },
  {
   "cell_type": "code",
   "execution_count": 2,
   "metadata": {},
   "outputs": [],
   "source": [
    "wikidata = pd.read_json('movies/data/wikidata-movies2.json.gz', orient='records', lines=True)\n",
    "actors = pd.read_json('movies/data/actors.json.gz', orient='records', lines=True)\n",
    "directors = pd.read_json('movies/data/directors.json.gz', orient='records', lines=True)"
   ]
  },
  {
   "cell_type": "code",
   "execution_count": 3,
   "metadata": {},
   "outputs": [],
   "source": [
    "wikidata = wikidata[pd.notnull(wikidata['nbox'])]"
   ]
  },
  {
   "cell_type": "code",
   "execution_count": 4,
   "metadata": {},
   "outputs": [],
   "source": [
    "# explode wikidata director\n",
    "wikidata_d_stack = wikidata['director'].apply(pd.Series).stack().reset_index(level=1, drop=True).to_frame()\n",
    "wikidata_d_stack.columns = ['wikidata_id']\n",
    "# explode wikidata actors\n",
    "wikidata_a_stack = wikidata['cast_member'].apply(pd.Series).stack().reset_index(level=1, drop=True).to_frame()\n",
    "wikidata_a_stack.columns = ['wikidata_id']"
   ]
  },
  {
   "cell_type": "code",
   "execution_count": 5,
   "metadata": {},
   "outputs": [],
   "source": [
    "# merge with label&wikidata_id DF\n",
    "wikidata_d = wikidata_d_stack.reset_index().merge(directors, how=\"left\", on=\"wikidata_id\").set_index('index')\n",
    "wikidata_a = wikidata_a_stack.reset_index().merge(actors, how=\"left\", on=\"wikidata_id\").set_index('index')"
   ]
  },
  {
   "cell_type": "code",
   "execution_count": 6,
   "metadata": {},
   "outputs": [],
   "source": [
    "# merge back to wikidata\n",
    "wikidata_d = pd.merge(wikidata_d, wikidata, left_index=True, right_index=True).reset_index()\n",
    "wikidata_a = pd.merge(wikidata_a, wikidata, left_index=True, right_index=True).reset_index()\n",
    "#df_genre = pd.merge(df_genre, df, left_index=True, right_index=True).reset_index()"
   ]
  },
  {
   "cell_type": "markdown",
   "metadata": {},
   "source": [
    "#### AVONA test on directors and nbox"
   ]
  },
  {
   "cell_type": "code",
   "execution_count": 7,
   "metadata": {},
   "outputs": [],
   "source": [
    "groups_d = wikidata_d.groupby('director_label').groups"
   ]
  },
  {
   "cell_type": "code",
   "execution_count": 8,
   "metadata": {},
   "outputs": [],
   "source": [
    "# get n box values for each actor\n",
    "array = []\n",
    "for value in groups_d.values():\n",
    "    array.append(wikidata_d['nbox'].iloc[value])"
   ]
  },
  {
   "cell_type": "code",
   "execution_count": 9,
   "metadata": {},
   "outputs": [],
   "source": [
    "anova_d = stats.f_oneway(*array)"
   ]
  },
  {
   "cell_type": "code",
   "execution_count": 10,
   "metadata": {},
   "outputs": [
    {
     "data": {
      "text/plain": [
       "7.947026173570023e-05"
      ]
     },
     "execution_count": 10,
     "metadata": {},
     "output_type": "execute_result"
    }
   ],
   "source": [
    "anova_d.pvalue\n",
    "# 7.94 e-05 => there is a difference in means of the actors"
   ]
  },
  {
   "cell_type": "markdown",
   "metadata": {},
   "source": [
    "#### AVONA with actors"
   ]
  },
  {
   "cell_type": "code",
   "execution_count": 11,
   "metadata": {},
   "outputs": [],
   "source": [
    "groups_actor = wikidata_a.groupby('actor_label').groups"
   ]
  },
  {
   "cell_type": "code",
   "execution_count": 12,
   "metadata": {},
   "outputs": [],
   "source": [
    "# get n box values for each actor\n",
    "array = []\n",
    "for value in groups_actor.values():\n",
    "    array.append(wikidata_a['nbox'].iloc[value])"
   ]
  },
  {
   "cell_type": "code",
   "execution_count": 13,
   "metadata": {},
   "outputs": [],
   "source": [
    "anova_a = stats.f_oneway(*array)"
   ]
  },
  {
   "cell_type": "code",
   "execution_count": 15,
   "metadata": {},
   "outputs": [
    {
     "data": {
      "text/plain": [
       "0.00026458942201597086"
      ]
     },
     "execution_count": 15,
     "metadata": {},
     "output_type": "execute_result"
    }
   ],
   "source": [
    "anova_a.pvalue\n",
    "# 0.0002 => actors nboxes means are different"
   ]
  },
  {
   "cell_type": "code",
   "execution_count": null,
   "metadata": {},
   "outputs": [],
   "source": []
  }
 ],
 "metadata": {
  "kernelspec": {
   "display_name": "Python 3",
   "language": "python",
   "name": "python3"
  },
  "language_info": {
   "codemirror_mode": {
    "name": "ipython",
    "version": 3
   },
   "file_extension": ".py",
   "mimetype": "text/x-python",
   "name": "python",
   "nbconvert_exporter": "python",
   "pygments_lexer": "ipython3",
   "version": "3.6.3"
  }
 },
 "nbformat": 4,
 "nbformat_minor": 2
}
