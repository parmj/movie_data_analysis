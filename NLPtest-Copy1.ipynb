{
 "cells": [
  {
   "cell_type": "code",
   "execution_count": 31,
   "metadata": {},
   "outputs": [],
   "source": [
    "import sys\n",
    "import pandas as pd\n",
    "import numpy as np\n",
    "import matplotlib.pyplot as plt\n",
    "import sklearn\n",
    "import re\n",
    "from sklearn.pipeline import make_pipeline\n",
    "from sklearn.pipeline import Pipeline\n",
    "from sklearn.feature_extraction.text import CountVectorizer\n",
    "from sklearn.feature_extraction.text import TfidfTransformer\n",
    "from sklearn.model_selection import train_test_split\n",
    "from sklearn.naive_bayes import MultinomialNB\n",
    "from sklearn.linear_model import SGDClassifier\n",
    "from sklearn.svm import SVC\n",
    "from sklearn.model_selection import GridSearchCV\n",
    "\n",
    "from sklearn.preprocessing import MultiLabelBinarizer\n",
    "from sklearn.multiclass import OneVsRestClassifier\n",
    "from sklearn.svm import LinearSVC\n",
    "\n",
    "pd.set_option('display.max_colwidth', -1)"
   ]
  },
  {
   "cell_type": "markdown",
   "metadata": {},
   "source": [
    "### Predict Genre Based on Plot"
   ]
  },
  {
   "cell_type": "code",
   "execution_count": 3,
   "metadata": {},
   "outputs": [],
   "source": [
    "omdb = pd.read_json('movies/data/omdb-data.json.gz', lines=True)"
   ]
  },
  {
   "cell_type": "code",
   "execution_count": 102,
   "metadata": {},
   "outputs": [],
   "source": [
    "#X_train, X_test, y_train, y_test = train_test_split(X, y)\n",
    "X_train, X_test, y_train, y_test = train_test_split(omdb.omdb_plot, omdb.omdb_genres, test_size=0.2)"
   ]
  },
  {
   "cell_type": "code",
   "execution_count": 82,
   "metadata": {},
   "outputs": [],
   "source": [
    "# ignore this and just use below pipeline\n",
    "count_vect = CountVectorizer()\n",
    "X_train_counts = count_vect.fit_transform(omdb['omdb_plot'])\n",
    "tfidf_transformer = TfidfTransformer()\n",
    "X_train_tfidf = tfidf_transformer.fit_transform(X_train_counts)\n",
    "clf = MultinomialNB().fit(X_train_tfidf, omdb['omdb_genres'])\n",
    "plot = ['hi']\n",
    "X_new_counts = count_vect.transform(plot)\n",
    "X_new_tfidf = tfidf_transformer.transform(X_new_counts)\n",
    "\n",
    "predicted = clf.predict(X_new_tfidf)\n",
    "predicted[0]"
   ]
  },
  {
   "cell_type": "code",
   "execution_count": 161,
   "metadata": {},
   "outputs": [
    {
     "name": "stdout",
     "output_type": "stream",
     "text": [
      "0.4896694214876033\n"
     ]
    }
   ],
   "source": [
    "clf = Pipeline([\n",
    "    ('vect', CountVectorizer(ngram_range=(1,1))),\n",
    "    ('tfidf',TfidfTransformer()),\n",
    "    ('clf', SGDClassifier(loss='hinge', penalty='l2',alpha=1e-3, random_state=42,max_iter=5, tol=None))\n",
    "])\n",
    "clf.fit(X_train, y_train)\n",
    "print(clf.score(X_test, y_test))"
   ]
  },
  {
   "cell_type": "code",
   "execution_count": 156,
   "metadata": {},
   "outputs": [
    {
     "name": "stderr",
     "output_type": "stream",
     "text": [
      "/Library/Frameworks/Python.framework/Versions/3.6/lib/python3.6/site-packages/sklearn/model_selection/_split.py:605: Warning: The least populated class in y has only 2 members, which is too few. The minimum number of members in any class cannot be less than n_splits=3.\n",
      "  % (min_groups, self.n_splits)), Warning)\n"
     ]
    }
   ],
   "source": [
    "parameters = {'vect__ngram_range': [(1, 1), (1, 2)],\n",
    "              'tfidf__use_idf': (True, False),\n",
    "              'clf__alpha': (1e-2, 1e-3),\n",
    "              'clf__penalty': ['none', 'l2', 'l1']\n",
    "}\n",
    "gs_clf = GridSearchCV(clf, parameters, n_jobs=-1)\n",
    "gs_clf = gs_clf.fit(omdb.omdb_plot, omdb.omdb_genres)"
   ]
  },
  {
   "cell_type": "code",
   "execution_count": null,
   "metadata": {},
   "outputs": [],
   "source": [
    "# logs\n",
    "# svc - 0.4793388429752066\n",
    "# knn - 0.303202479338843"
   ]
  },
  {
   "cell_type": "code",
   "execution_count": 157,
   "metadata": {},
   "outputs": [
    {
     "data": {
      "text/plain": [
       "0.4708557255064076"
      ]
     },
     "execution_count": 157,
     "metadata": {},
     "output_type": "execute_result"
    }
   ],
   "source": [
    "gs_clf.best_score_ "
   ]
  },
  {
   "cell_type": "code",
   "execution_count": 158,
   "metadata": {},
   "outputs": [
    {
     "name": "stdout",
     "output_type": "stream",
     "text": [
      "clf__alpha: 0.001\n",
      "clf__penalty: 'l2'\n",
      "tfidf__use_idf: True\n",
      "vect__ngram_range: (1, 1)\n"
     ]
    }
   ],
   "source": [
    "for param_name in sorted(parameters.keys()):\n",
    "    print(\"%s: %r\" % (param_name, gs_clf.best_params_[param_name]))"
   ]
  },
  {
   "cell_type": "code",
   "execution_count": 171,
   "metadata": {},
   "outputs": [],
   "source": [
    "predicted = clf.predict(['Sam Bell has a three year contract to work for Lunar Industries. For the contract\\'s entire duration, he is the sole employee based at their lunar station. His primary job responsibility is to harvest and periodically rocket back to Earth supplies of helium-3, the current clean and abundant fuel used on Earth. There is no direct communication link available between the lunar station and Earth, so his only direct real-time interaction is with GERTY, the intelligent computer whose function is to attend to his day to day needs. With such little human contact and all of it indirect, he feels that three years is far too long to be so isolated; he knows he is beginning to hallucinate as the end of his three years approaches. All he wants is to return to Earth to be with his wife Tess and their infant daughter Eve, who was born just prior to his leaving for this job. With two weeks to go, he gets into an accident at one of the mechanical harvesters and is rendered unconscious. Injured, he awakens back at the station in the infirmary, he assumes assisted by GERTY. GERTY tells him that a rescue team named Eliza will come to the station to clean up the aftermath of the accident. After his recuperation, he takes an unauthorized trip back to the broken harvester, where he makes an unexpected discovery. Because of his find, he begins to doubt his sanity, then his true identity, then the company and GERTY\\'s willingness to do what is best for him. Because of his resulting beliefs, his sole mission becomes how to get back to Earth on his own.'])"
   ]
  },
  {
   "cell_type": "code",
   "execution_count": 174,
   "metadata": {},
   "outputs": [
    {
     "data": {
      "text/plain": [
       "array(['Drama'], dtype='<U11')"
      ]
     },
     "execution_count": 174,
     "metadata": {},
     "output_type": "execute_result"
    }
   ],
   "source": [
    "predicted"
   ]
  },
  {
   "cell_type": "code",
   "execution_count": 61,
   "metadata": {},
   "outputs": [],
   "source": [
    "X_train, X_test, y_train, y_test = train_test_split(omdb.omdb_plot, omdb.omdb_genres, test_size=0.2)\n",
    "lb = MultiLabelBinarizer()\n",
    "Y = lb.fit_transform(y_train.values)"
   ]
  },
  {
   "cell_type": "code",
   "execution_count": 62,
   "metadata": {},
   "outputs": [],
   "source": [
    "clf = Pipeline([\n",
    "    ('vect', CountVectorizer(ngram_range=(1,1))),\n",
    "    ('tfidf',TfidfTransformer()),\n",
    "    ('clf', OneVsRestClassifier(LinearSVC(), n_jobs=1))\n",
    "])"
   ]
  },
  {
   "cell_type": "code",
   "execution_count": 63,
   "metadata": {},
   "outputs": [
    {
     "data": {
      "text/plain": [
       "Pipeline(memory=None,\n",
       "     steps=[('vect', CountVectorizer(analyzer='word', binary=False, decode_error='strict',\n",
       "        dtype=<class 'numpy.int64'>, encoding='utf-8', input='content',\n",
       "        lowercase=True, max_df=1.0, max_features=None, min_df=1,\n",
       "        ngram_range=(1, 1), preprocessor=None, stop_words=None,\n",
       "        strip...lti_class='ovr', penalty='l2', random_state=None, tol=0.0001,\n",
       "     verbose=0),\n",
       "          n_jobs=1))])"
      ]
     },
     "execution_count": 63,
     "metadata": {},
     "output_type": "execute_result"
    }
   ],
   "source": [
    "clf.fit(X_train, Y)"
   ]
  },
  {
   "cell_type": "code",
   "execution_count": 64,
   "metadata": {},
   "outputs": [],
   "source": [
    "predicted = clf.predict(['Sam Bell has a three year contract to work for Lunar Industries. For the contract\\'s entire duration, he is the sole employee based at their lunar station. His primary job responsibility is to harvest and periodically rocket back to Earth supplies of helium-3, the current clean and abundant fuel used on Earth. There is no direct communication link available between the lunar station and Earth, so his only direct real-time interaction is with GERTY, the intelligent computer whose function is to attend to his day to day needs. With such little human contact and all of it indirect, he feels that three years is far too long to be so isolated; he knows he is beginning to hallucinate as the end of his three years approaches. All he wants is to return to Earth to be with his wife Tess and their infant daughter Eve, who was born just prior to his leaving for this job. With two weeks to go, he gets into an accident at one of the mechanical harvesters and is rendered unconscious. Injured, he awakens back at the station in the infirmary, he assumes assisted by GERTY. GERTY tells him that a rescue team named Eliza will come to the station to clean up the aftermath of the accident. After his recuperation, he takes an unauthorized trip back to the broken harvester, where he makes an unexpected discovery. Because of his find, he begins to doubt his sanity, then his true identity, then the company and GERTY\\'s willingness to do what is best for him. Because of his resulting beliefs, his sole mission becomes how to get back to Earth on his own.'])"
   ]
  },
  {
   "cell_type": "code",
   "execution_count": 65,
   "metadata": {},
   "outputs": [
    {
     "data": {
      "text/plain": [
       "array([0, 0, 0, 0, 0, 0, 0, 0, 1, 0, 0, 0, 0, 0, 0, 0, 1, 0, 0, 0, 1, 0,\n",
       "       0, 0, 0, 0, 0])"
      ]
     },
     "execution_count": 65,
     "metadata": {},
     "output_type": "execute_result"
    }
   ],
   "source": [
    "predicted[0]"
   ]
  },
  {
   "cell_type": "code",
   "execution_count": 66,
   "metadata": {},
   "outputs": [
    {
     "ename": "IndexError",
     "evalue": "tuple index out of range",
     "output_type": "error",
     "traceback": [
      "\u001b[0;31m---------------------------------------------------------------------------\u001b[0m",
      "\u001b[0;31mIndexError\u001b[0m                                Traceback (most recent call last)",
      "\u001b[0;32m<ipython-input-66-5f1a6d411cba>\u001b[0m in \u001b[0;36m<module>\u001b[0;34m()\u001b[0m\n\u001b[0;32m----> 1\u001b[0;31m \u001b[0mlb\u001b[0m\u001b[0;34m.\u001b[0m\u001b[0minverse_transform\u001b[0m\u001b[0;34m(\u001b[0m\u001b[0mpredicted\u001b[0m\u001b[0;34m[\u001b[0m\u001b[0;36m0\u001b[0m\u001b[0;34m]\u001b[0m\u001b[0;34m)\u001b[0m\u001b[0;34m\u001b[0m\u001b[0m\n\u001b[0m",
      "\u001b[0;32m/Library/Frameworks/Python.framework/Versions/3.6/lib/python3.6/site-packages/sklearn/preprocessing/label.py\u001b[0m in \u001b[0;36minverse_transform\u001b[0;34m(self, yt)\u001b[0m\n\u001b[1;32m    810\u001b[0m         \u001b[0mcheck_is_fitted\u001b[0m\u001b[0;34m(\u001b[0m\u001b[0mself\u001b[0m\u001b[0;34m,\u001b[0m \u001b[0;34m'classes_'\u001b[0m\u001b[0;34m)\u001b[0m\u001b[0;34m\u001b[0m\u001b[0m\n\u001b[1;32m    811\u001b[0m \u001b[0;34m\u001b[0m\u001b[0m\n\u001b[0;32m--> 812\u001b[0;31m         \u001b[0;32mif\u001b[0m \u001b[0myt\u001b[0m\u001b[0;34m.\u001b[0m\u001b[0mshape\u001b[0m\u001b[0;34m[\u001b[0m\u001b[0;36m1\u001b[0m\u001b[0;34m]\u001b[0m \u001b[0;34m!=\u001b[0m \u001b[0mlen\u001b[0m\u001b[0;34m(\u001b[0m\u001b[0mself\u001b[0m\u001b[0;34m.\u001b[0m\u001b[0mclasses_\u001b[0m\u001b[0;34m)\u001b[0m\u001b[0;34m:\u001b[0m\u001b[0;34m\u001b[0m\u001b[0m\n\u001b[0m\u001b[1;32m    813\u001b[0m             raise ValueError('Expected indicator for {0} classes, but got {1}'\n\u001b[1;32m    814\u001b[0m                              .format(len(self.classes_), yt.shape[1]))\n",
      "\u001b[0;31mIndexError\u001b[0m: tuple index out of range"
     ]
    }
   ],
   "source": [
    "lb.inverse_transform(predicted[0])"
   ]
  },
  {
   "cell_type": "code",
   "execution_count": 76,
   "metadata": {},
   "outputs": [
    {
     "data": {
      "text/plain": [
       "0       [Drama, History, War]        \n",
       "1       [Action, Adventure, Thriller]\n",
       "2       [Comedy, Horror]             \n",
       "4       [Crime, Drama, Thriller]     \n",
       "5       [Crime, Drama, Sci-Fi]       \n",
       "6       [Action, Adventure, Fantasy] \n",
       "7       [Crime, Drama, Thriller]     \n",
       "8       [Action, Adventure, Sci-Fi]  \n",
       "11      [Biography, Comedy, Drama]   \n",
       "12      [Adventure, Drama, Fantasy]  \n",
       "13      [Action, Adventure, Sci-Fi]  \n",
       "16      [Action, Adventure, Family]  \n",
       "17      [Action, Adventure, Thriller]\n",
       "19      [Action, Adventure, Thriller]\n",
       "20      [Action, Drama, Sci-Fi]      \n",
       "21      [Action, Adventure, Horror]  \n",
       "22      [Adventure, Family, Fantasy] \n",
       "23      [Drama, Horror, Sci-Fi]      \n",
       "24      [Action, Drama, Mystery]     \n",
       "25      [Action, Adventure, Mystery] \n",
       "26      [Action, Sci-Fi, Thriller]   \n",
       "27      [Action, Adventure, Fantasy] \n",
       "28      [Crime, Drama, Thriller]     \n",
       "29      [Action, Adventure, Thriller]\n",
       "30      [Biography, Crime, Drama]    \n",
       "31      [Drama, Mystery, Thriller]   \n",
       "32      [Action, Adventure, Fantasy] \n",
       "34      [Action, Adventure, Fantasy] \n",
       "35      [Drama, Horror, Musical]     \n",
       "36      [Action, Drama, History]     \n",
       "                  ...                \n",
       "9643    [Documentary, Music]         \n",
       "9644    [Comedy]                     \n",
       "9645    [Comedy]                     \n",
       "9646    [Action, Drama]              \n",
       "9647    [Drama, Romance, Sci-Fi]     \n",
       "9648    [Horror, Mystery]            \n",
       "9649    [Drama]                      \n",
       "9650    [Drama, Mystery, Romance]    \n",
       "9651    [Comedy]                     \n",
       "9653    [Comedy]                     \n",
       "9654    [Action, Crime, Thriller]    \n",
       "9655    [Comedy, Crime]              \n",
       "9656    [Drama]                      \n",
       "9658    [Adventure, Comedy]          \n",
       "9659    [Drama]                      \n",
       "9660    [Comedy, Drama]              \n",
       "9661    [Action, Adventure, Fantasy] \n",
       "9662    [Comedy, Romance]            \n",
       "9663    [Comedy]                     \n",
       "9664    [Crime, Horror, Romance]     \n",
       "9665    [Drama, Fantasy, Thriller]   \n",
       "9667    [Drama]                      \n",
       "9668    [Fantasy, Horror, Thriller]  \n",
       "9669    [Drama]                      \n",
       "9670    [Comedy]                     \n",
       "9671    [Action, Adventure]          \n",
       "9672    [Comedy, Drama, Romance]     \n",
       "9673    [Biography, Comedy, Drama]   \n",
       "9674    [Drama]                      \n",
       "9675    [Sci-Fi, Thriller]           \n",
       "Name: omdb_genres, Length: 7740, dtype: object"
      ]
     },
     "execution_count": 76,
     "metadata": {},
     "output_type": "execute_result"
    }
   ],
   "source": [
    "y_train.groupby(level=0).first()"
   ]
  },
  {
   "cell_type": "code",
   "execution_count": null,
   "metadata": {},
   "outputs": [],
   "source": []
  }
 ],
 "metadata": {
  "kernelspec": {
   "display_name": "Python 3",
   "language": "python",
   "name": "python3"
  },
  "language_info": {
   "codemirror_mode": {
    "name": "ipython",
    "version": 3
   },
   "file_extension": ".py",
   "mimetype": "text/x-python",
   "name": "python",
   "nbconvert_exporter": "python",
   "pygments_lexer": "ipython3",
   "version": "3.6.3"
  }
 },
 "nbformat": 4,
 "nbformat_minor": 2
}
