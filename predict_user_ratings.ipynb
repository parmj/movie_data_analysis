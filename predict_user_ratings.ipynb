{
 "cells": [
  {
   "cell_type": "code",
   "execution_count": 1,
   "metadata": {},
   "outputs": [],
   "source": [
    "import pandas as pd \n",
    "import numpy as np \n",
    "from sklearn.model_selection import train_test_split\n",
    "from sklearn.naive_bayes import GaussianNB\n",
    "from sklearn.neighbors import KNeighborsClassifier\n",
    "from sklearn.preprocessing import MinMaxScaler, StandardScaler\n",
    "from sklearn.pipeline import make_pipeline\n",
    "from sklearn.svm import SVC\n",
    "from sklearn.linear_model import LinearRegression"
   ]
  },
  {
   "cell_type": "code",
   "execution_count": 2,
   "metadata": {},
   "outputs": [],
   "source": [
    "omdb = pd.read_json('movies/data/omdb-data.json.gz', orient='record', lines=True)\n",
    "genre = pd.read_json('movies/data/genres.json.gz', orient='record', lines=True)\n",
    "wiki = pd.read_json('movies/data/wikidata-movies2.json.gz', orient='record', lines=True)\n",
    "rotten = pd.read_json('movies/data/rotten-tomatoes.json.gz', orient='record', lines=True)\n"
   ]
  },
  {
   "cell_type": "code",
   "execution_count": 3,
   "metadata": {},
   "outputs": [],
   "source": [
    "def get_oscar_wins(str):\n",
    "\ttoken = str.split('.')\n",
    "\tif token[0].find('Won') > -1:\n",
    "\t\treturn int(token[0].split(' ')[1])\n",
    "\telse :\n",
    "\t\treturn 0"
   ]
  },
  {
   "cell_type": "code",
   "execution_count": 4,
   "metadata": {},
   "outputs": [],
   "source": [
    "def get_oscar_nominations(str):\n",
    "\ttoken = str.split('.')\n",
    "\tif (token[0].find('Nominated') > -1) & (token[0].find('Oscar') > -1):\n",
    "\t\treturn int(token[0].split(' ')[2])\n",
    "\telse :\n",
    "\t\treturn 0"
   ]
  },
  {
   "cell_type": "code",
   "execution_count": 5,
   "metadata": {},
   "outputs": [],
   "source": [
    "def get_wins(str):\n",
    "\ttoken = str.split('.')\n",
    "\tfor x in token:\n",
    "\t\tif x.find('wins') > -1:\n",
    "\t\t\ttmp = x.split(' ')\n",
    "\t\t\treturn int(tmp[tmp.index('wins') -1])\n",
    "\t\tif x.find('win') > -1 :\n",
    "\t\t\ttmp = x.split(' ')\n",
    "\t\t\treturn int(tmp[tmp.index('win') -1])\n",
    "\treturn 0"
   ]
  },
  {
   "cell_type": "code",
   "execution_count": 6,
   "metadata": {},
   "outputs": [],
   "source": [
    "def get_nominations(str):\n",
    "\ttoken = str.split('.')\n",
    "\tfor x in token:\n",
    "\t\tif x.find('nominations') > -1:\n",
    "\t\t\ttmp = x.split(' ')\n",
    "\t\t\treturn int(tmp[tmp.index('nominations') -1])\n",
    "\t\tif x.find('nomination') > -1 :\n",
    "\t\t\ttmp = x.split(' ')\n",
    "\t\t\treturn int(tmp[tmp.index('nomination') -1])\n",
    "\treturn 0"
   ]
  },
  {
   "cell_type": "code",
   "execution_count": 7,
   "metadata": {},
   "outputs": [],
   "source": [
    "get_oscar_wins_vec = np.vectorize(get_oscar_wins)\n",
    "get_oscar_nominations_vec = np.vectorize(get_oscar_nominations)\n",
    "get_wins_vec = np.vectorize(get_wins)\n",
    "get_nominations_vec = np.vectorize(get_nominations)\n"
   ]
  },
  {
   "cell_type": "code",
   "execution_count": 8,
   "metadata": {},
   "outputs": [],
   "source": [
    "omdb['oscar_wins'] = get_oscar_wins_vec(omdb['omdb_awards'])\n",
    "omdb['oscar_nominations'] = get_oscar_nominations_vec(omdb['omdb_awards'])\n",
    "omdb['wins'] = get_wins_vec(omdb['omdb_awards'])\n",
    "omdb['nominations'] = get_nominations_vec(omdb['omdb_awards'])"
   ]
  },
  {
   "cell_type": "code",
   "execution_count": 9,
   "metadata": {},
   "outputs": [],
   "source": [
    "wiki_rotten = pd.merge(wiki, rotten,  how='left', left_on=['imdb_id','rotten_tomatoes_id'], right_on = ['imdb_id','rotten_tomatoes_id'])\n",
    "omdb_wiki_rotten = pd.merge(wiki_rotten, omdb,  how='left', left_on=['imdb_id'], right_on = ['imdb_id'])\n"
   ]
  },
  {
   "cell_type": "code",
   "execution_count": 10,
   "metadata": {},
   "outputs": [],
   "source": [
    "genres = omdb_wiki_rotten['omdb_genres'].str.join('|').str.get_dummies()\n",
    "genres.reset_index(drop=True, inplace=True)\n",
    "omdb_wiki_rotten = pd.concat([omdb_wiki_rotten, genres], axis=1)"
   ]
  },
  {
   "cell_type": "code",
   "execution_count": 11,
   "metadata": {},
   "outputs": [],
   "source": [
    "del omdb_wiki_rotten['imdb_id']\n",
    "del omdb_wiki_rotten['rotten_tomatoes_id']\n",
    "del omdb_wiki_rotten['original_language']\n",
    "del omdb_wiki_rotten['publication_date']\n",
    "del omdb_wiki_rotten['series']\n",
    "del omdb_wiki_rotten['wikidata_id']\n",
    "del omdb_wiki_rotten['label']\n",
    "del omdb_wiki_rotten['genre']\n",
    "del omdb_wiki_rotten['filming_location']\n",
    "del omdb_wiki_rotten['director']\n",
    "del omdb_wiki_rotten['cast_member']\n",
    "del omdb_wiki_rotten['based_on']\n",
    "del omdb_wiki_rotten['country_of_origin']\n",
    "del omdb_wiki_rotten['enwiki_title']\n",
    "del omdb_wiki_rotten['metacritic_id']\n",
    "del omdb_wiki_rotten['main_subject']\n",
    "del omdb_wiki_rotten['omdb_genres']\n",
    "del omdb_wiki_rotten['omdb_awards']\n",
    "del omdb_wiki_rotten['omdb_plot']\n",
    "# del omdb_wiki_rotten['critic_average']\n",
    "# del omdb_wiki_rotten['critic_percent']\n",
    "del omdb_wiki_rotten['audience_percent']"
   ]
  },
  {
   "cell_type": "code",
   "execution_count": 12,
   "metadata": {},
   "outputs": [],
   "source": [
    "omdb_wiki_rotten = omdb_wiki_rotten.dropna()\n"
   ]
  },
  {
   "cell_type": "code",
   "execution_count": null,
   "metadata": {},
   "outputs": [],
   "source": []
  }
 ],
 "metadata": {
  "kernelspec": {
   "display_name": "Python 3",
   "language": "python",
   "name": "python3"
  },
  "language_info": {
   "codemirror_mode": {
    "name": "ipython",
    "version": 3
   },
   "file_extension": ".py",
   "mimetype": "text/x-python",
   "name": "python",
   "nbconvert_exporter": "python",
   "pygments_lexer": "ipython3",
   "version": "3.6.5"
  }
 },
 "nbformat": 4,
 "nbformat_minor": 2
}
